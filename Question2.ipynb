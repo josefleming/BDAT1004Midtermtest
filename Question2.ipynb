{
 "cells": [
  {
   "cell_type": "markdown",
   "metadata": {},
   "source": [
    "Question 2:"
   ]
  },
  {
   "cell_type": "code",
   "execution_count": 1,
   "metadata": {},
   "outputs": [
    {
     "name": "stdout",
     "output_type": "stream",
     "text": [
      "2\n",
      "4\n"
     ]
    }
   ],
   "source": [
    "import sqlite3\n",
    "\n",
    "# Create a SQLite database and connect to it\n",
    "con = sqlite3.connect('weather.db')\n",
    "cur = con.cursor()\n",
    "\n",
    "# Create the Weather table\n",
    "cur.execute('''\n",
    "    CREATE TABLE Weather (\n",
    "        id INT PRIMARY KEY,\n",
    "        recordDate DATE,\n",
    "        temperature INT\n",
    "    );\n",
    "''')\n",
    "\n",
    "# Insert data into the Weather table\n",
    "data = [\n",
    "    (1, '2015-01-01', 10),\n",
    "    (2, '2015-01-02', 25),\n",
    "    (3, '2015-01-03', 20),\n",
    "    (4, '2015-01-04', 30)\n",
    "]\n",
    "\n",
    "cur.executemany('INSERT INTO Weather (id, recordDate, temperature) VALUES (?, ?, ?)', data)\n",
    "\n",
    "# Commit the changes\n",
    "con.commit()\n",
    "\n",
    "# Now put a SQL query to find dates with higher temperatures than the previous day\n",
    "cur.execute('''\n",
    "    SELECT w1.id\n",
    "    FROM Weather w1\n",
    "    JOIN Weather w2 ON w1.id = w2.id + 1\n",
    "    WHERE w1.temperature > w2.temperature\n",
    "''')\n",
    "\n",
    "# test\n",
    "result = cur.fetchall()\n",
    "for row in result:\n",
    "    print(row[0])\n",
    "\n",
    "# Close the connection\n",
    "con.close()\n",
    "\n",
    "\n"
   ]
  }
 ],
 "metadata": {
  "celltoolbar": "Slideshow",
  "kernelspec": {
   "display_name": "Python 3",
   "language": "python",
   "name": "python3"
  },
  "language_info": {
   "codemirror_mode": {
    "name": "ipython",
    "version": 3
   },
   "file_extension": ".py",
   "mimetype": "text/x-python",
   "name": "python",
   "nbconvert_exporter": "python",
   "pygments_lexer": "ipython3",
   "version": "3.11.4"
  }
 },
 "nbformat": 4,
 "nbformat_minor": 4
}
