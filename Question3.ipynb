{
 "cells": [
  {
   "cell_type": "markdown",
   "metadata": {},
   "source": [
    "Question 3: In a jupyter notebook solve the following question using python. Please upload the notebook to GitHub and provide the link submission box below.\n",
    "Develop a recursive function tough() that takes two nonnegative integer arguments and outputs a pattern as shown below. Hint: The first argument represents the indentation of the pattern, where the second argument -- always a pattern of 2 indicates the number *s in the longest line of *s in the pattern"
   ]
  },
  {
   "cell_type": "code",
   "execution_count": 1,
   "metadata": {},
   "outputs": [
    {
     "name": "stdout",
     "output_type": "stream",
     "text": [
      "    *\n",
      "    **\n",
      "    *\n",
      "    ****\n",
      "    *\n",
      "    **\n",
      "    *\n",
      "    ********\n",
      "    *\n",
      "    **\n",
      "    *\n",
      "    ****\n",
      "    *\n",
      "    **\n",
      "    *\n",
      "    ****************\n",
      "    *\n",
      "    **\n",
      "    *\n",
      "    ****\n",
      "    *\n",
      "    **\n",
      "    *\n",
      "    ********\n",
      "    *\n",
      "    **\n",
      "    *\n",
      "    ****\n",
      "    *\n",
      "    **\n",
      "    *\n"
     ]
    }
   ],
   "source": [
    "def tough(indentation, width):\n",
    "    if width <= 0:\n",
    "        return\n",
    "    \n",
    "    # Print the left side of pattern\n",
    "    tough(indentation, width // 2)\n",
    "    \n",
    "    # Create a string for the current line with spaces and stars\n",
    "    line = \" \" * indentation + \"*\" * width\n",
    "    \n",
    "    # Print line\n",
    "    print(line)\n",
    "    \n",
    "    # Print the other side\n",
    "    tough(indentation, width // 2)\n",
    "\n",
    "# Test your pattern\n",
    "indentation = 4  \n",
    "width = 16      \n",
    "\n",
    "# Call the function\n",
    "tough(indentation, width)\n"
   ]
  }
 ],
 "metadata": {
  "celltoolbar": "Slideshow",
  "kernelspec": {
   "display_name": "Python 3",
   "language": "python",
   "name": "python3"
  },
  "language_info": {
   "codemirror_mode": {
    "name": "ipython",
    "version": 3
   },
   "file_extension": ".py",
   "mimetype": "text/x-python",
   "name": "python",
   "nbconvert_exporter": "python",
   "pygments_lexer": "ipython3",
   "version": "3.11.4"
  }
 },
 "nbformat": 4,
 "nbformat_minor": 4
}
